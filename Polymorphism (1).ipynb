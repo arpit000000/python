{
 "cells": [
  {
   "cell_type": "markdown",
   "id": "b9595c80",
   "metadata": {},
   "source": [
    "Polymorphism is a fundamental concept in object-oriented programming (OOP) that allows objects of different types to be treated as instances of a common superclass or interface. It provides a way to write code that can work with objects of multiple classes in a unified manner.\n",
    "it allows us to perform the same action in different ways."
   ]
  },
  {
   "cell_type": "markdown",
   "id": "66b2143e",
   "metadata": {},
   "source": [
    "#Method Overloading\n",
    "Method overloading is the process of defining multiple methods in a class with the same name but different parameter lists. In other words, methods with the same name but different parameters are considered overloaded methods.\n",
    "Key points to remember about method overloading:\n",
    "\n",
    "*Method overloading occurs within a single class.\n",
    "*Overloaded methods must have the same name but different parameter lists (number, order, or types of parameters).\n",
    "*The return type of the method does not play a role in method overloading.\n",
    "*Method overloading allows a class to provide multiple methods with the same name but different functionalities based on the different parameters they accept.\n",
    "*During compile-time, the compiler determines which overloaded method to call based on the arguments provided during the method invocation."
   ]
  },
  {
   "cell_type": "code",
   "execution_count": 8,
   "id": "6dac3413",
   "metadata": {},
   "outputs": [
    {
     "name": "stdout",
     "output_type": "stream",
     "text": [
      "this class is used to add numbers\n"
     ]
    },
    {
     "ename": "TypeError",
     "evalue": "Add.add() missing 1 required positional argument: 'c'",
     "output_type": "error",
     "traceback": [
      "\u001b[1;31m---------------------------------------------------------------------------\u001b[0m",
      "\u001b[1;31mTypeError\u001b[0m                                 Traceback (most recent call last)",
      "Cell \u001b[1;32mIn[8], line 10\u001b[0m\n\u001b[0;32m      8\u001b[0m         \u001b[38;5;28mprint\u001b[39m(a\u001b[38;5;241m+\u001b[39mb\u001b[38;5;241m+\u001b[39mc)\n\u001b[0;32m      9\u001b[0m obj\u001b[38;5;241m=\u001b[39mAdd()\n\u001b[1;32m---> 10\u001b[0m \u001b[43mobj\u001b[49m\u001b[38;5;241;43m.\u001b[39;49m\u001b[43madd\u001b[49m\u001b[43m(\u001b[49m\u001b[38;5;241;43m4\u001b[39;49m\u001b[43m,\u001b[49m\u001b[38;5;241;43m5\u001b[39;49m\u001b[43m)\u001b[49m\n\u001b[0;32m     11\u001b[0m obj\u001b[38;5;241m.\u001b[39madd(\u001b[38;5;241m1\u001b[39m,\u001b[38;5;241m5\u001b[39m,\u001b[38;5;241m7\u001b[39m)\n",
      "\u001b[1;31mTypeError\u001b[0m: Add.add() missing 1 required positional argument: 'c'"
     ]
    }
   ],
   "source": [
    "#Method Overloading - it is not possible in python\n",
    "class Add:\n",
    "    def __init__(self):\n",
    "        print(\"this class is used to add numbers\")\n",
    "    def add(self,a,b):\n",
    "        print(a+b)\n",
    "    def add(self,a,b,c):\n",
    "        print(a+b+c)\n",
    "obj=Add()\n",
    "obj.add(4,5)\n",
    "obj.add(1,5,7)"
   ]
  },
  {
   "cell_type": "code",
   "execution_count": 16,
   "id": "2b0f341b",
   "metadata": {},
   "outputs": [
    {
     "name": "stdout",
     "output_type": "stream",
     "text": [
      "11\n",
      "25\n"
     ]
    }
   ],
   "source": [
    "#this is the how we enable method overloading in python\n",
    "class Student:\n",
    "    def Sum(self,a=None,b=None,c=None):\n",
    "        if a and b and c is not None:\n",
    "            print(a+b+c)\n",
    "        elif a and b is not None:\n",
    "            print(a+b)\n",
    "        else:\n",
    "            print(a)\n",
    "obj=Student()\n",
    "obj.Sum(5,6)\n",
    "obj.Sum(2,15,8)      "
   ]
  },
  {
   "cell_type": "code",
   "execution_count": 17,
   "id": "0efe11da",
   "metadata": {},
   "outputs": [
    {
     "name": "stdout",
     "output_type": "stream",
     "text": [
      "A class constructor\n",
      "no name\n"
     ]
    }
   ],
   "source": [
    "class A:\n",
    "    'this is a class a '\n",
    "    def __init__(self):\n",
    "        print(\"A class constructor\")\n",
    "    def Name(self,name=None):\n",
    "        if name is not None:\n",
    "            print(\"hello\"+name)\n",
    "        else:\n",
    "            print(\"no name\")\n",
    "obj=A()\n",
    "obj.Name()"
   ]
  },
  {
   "cell_type": "markdown",
   "id": "7aa4bd3c",
   "metadata": {},
   "source": [
    "#Method Overriding\n",
    "Method overriding is the process of providing a different implementation for a method in a subclass that is already defined in its superclass. In other words, the subclass defines its own version of a method with the same name, return type, and parameters as the method in the superclass. The overridden method in the subclass is said to override the original method in the superclass.\n"
   ]
  },
  {
   "cell_type": "code",
   "execution_count": 30,
   "id": "919d91ce",
   "metadata": {},
   "outputs": [
    {
     "name": "stdout",
     "output_type": "stream",
     "text": [
      "area = 50.24\n",
      "area = 20\n",
      "perimeter = 18\n"
     ]
    }
   ],
   "source": [
    "#method overriding\n",
    "class Shape:\n",
    "    def __init__(self):\n",
    "        print(\"this class provide you area and paremeter\")\n",
    "    def area(self):\n",
    "        pass\n",
    "    def perimeter(self):\n",
    "        pass\n",
    "class Circle(Shape):\n",
    "    def __init__(self,r):\n",
    "        self.r=r\n",
    "    def area(self):\n",
    "        print(\"area =\",3.14*self.r*self.r)\n",
    "    def perimeter(self):\n",
    "        print(\"perimeter =\",2*3.14*self.r)\n",
    "class Rectangle(Shape):\n",
    "    def __init__(self,l,b):\n",
    "        self.l=l\n",
    "        self.b=b\n",
    "    def area(self):\n",
    "        print(\"area =\",self.l*self.b)\n",
    "    def perimeter(self):\n",
    "        print(\"perimeter =\",2*(self.l+self.b))\n",
    "obj=Circle(4)\n",
    "obj.area()\n",
    "obj.perimeter\n",
    "obj1=Rectangle(4,5)\n",
    "obj1.area()\n",
    "obj1.perimeter()"
   ]
  },
  {
   "cell_type": "markdown",
   "id": "68e53a8a",
   "metadata": {},
   "source": [
    "#operator Overloading\n",
    "Operator overloading is a feature in programming languages that allows operators, such as +, -, *, /, and ==, to be defined and used with user-defined types (objects) in addition to their traditional uses with built-in types (like integers and floating-point numbers). It enables objects to behave like built-in types when it comes to using operators.\n",
    "\n",
    "By overloading operators, you can define how operators should behave when applied to instances of your own classes. This provides a way to create more intuitive and expressive code, especially when working with complex data types or implementing domain-specific functionality."
   ]
  },
  {
   "cell_type": "code",
   "execution_count": 41,
   "id": "7b409a63",
   "metadata": {},
   "outputs": [
    {
     "name": "stdout",
     "output_type": "stream",
     "text": [
      "27/18\n",
      "10/18\n",
      "15/12\n",
      "3/18\n"
     ]
    }
   ],
   "source": [
    "#operator overloading\n",
    "class Fraction:\n",
    "    def __init__(self,a,b):\n",
    "        self.num=a\n",
    "        self.den=b\n",
    "    def __str__(self):\n",
    "        print(\"{}/{}\".format(self.num,self.den))\n",
    "    def __add__(self,other):\n",
    "        new_num=self.num*other.den+other.num*self.den\n",
    "        new_den=self.den*other.den\n",
    "        print(\"{}/{}\".format(new_num,new_den))\n",
    "    def __sub__(self,other):\n",
    "        new_num=self.num*other.den-other.num*self.den\n",
    "        new_den=self.den*other.den\n",
    "        print(\"{}/{}\".format(new_num,new_den))\n",
    "    def __mul__(self,other):\n",
    "        new_num=self.num*other.num\n",
    "        new_den=self.den*other.den\n",
    "        print(\"{}/{}\".format(new_num,new_den))\n",
    "    def __truediv__(self,other):\n",
    "        new_num=self.num*other.den\n",
    "        new_den=self.den*other.num\n",
    "        print(\"{}/{}\".format(new_num,new_den))\n",
    "    def convert_deci(self):\n",
    "        print(self.num/self.den)\n",
    "obj1=Fraction(5,6)\n",
    "obj2=Fraction(2,3)\n",
    "obj1+obj2\n",
    "obj1*obj2\n",
    "obj1/obj2\n",
    "obj1-obj2"
   ]
  },
  {
   "cell_type": "code",
   "execution_count": 56,
   "id": "1f2f9b5d",
   "metadata": {},
   "outputs": [
    {
     "name": "stdout",
     "output_type": "stream",
     "text": [
      "( 4 + 6 i)\n",
      "( 0 + 0 i)\n",
      "( -5 + 12 i)\n",
      "( 2 + 3 i)\n"
     ]
    },
    {
     "data": {
      "text/plain": [
       "3"
      ]
     },
     "execution_count": 56,
     "metadata": {},
     "output_type": "execute_result"
    }
   ],
   "source": [
    "class Complex:\n",
    "    def __init__(self,a,b):\n",
    "        self.real=a\n",
    "        self.img=b\n",
    "    def __add__(self,other):\n",
    "        new_real=self.real+other.real\n",
    "        new_img=self.img+other.img\n",
    "        print(\"(\",new_real,'+',new_img,\"i)\")\n",
    "    def __sub__(self,other):\n",
    "        new_real=self.real-other.real\n",
    "        new_img=self.img-other.img\n",
    "        print(\"(\",new_real,'+',new_img,\"i)\")\n",
    "    def __mul__(self,other):\n",
    "        new_real=(self.real*other.real)-(self.img*other.img)\n",
    "        new_img=(self.real*other.img)+(self.img*other.real)\n",
    "        print(\"(\",new_real,'+',new_img,\"i)\")\n",
    "    def display(self):\n",
    "        print(\"(\",self.real,'+',self.img,\"i)\")\n",
    "obj1=Complex(2,3)\n",
    "obj2=Complex(2,3)\n",
    "obj1+obj2\n",
    "obj1-obj2\n",
    "obj1*obj2\n",
    "obj1.display()\n",
    "obj2.img"
   ]
  },
  {
   "cell_type": "code",
   "execution_count": null,
   "id": "fa2975ad",
   "metadata": {},
   "outputs": [],
   "source": []
  }
 ],
 "metadata": {
  "kernelspec": {
   "display_name": "Python 3 (ipykernel)",
   "language": "python",
   "name": "python3"
  },
  "language_info": {
   "codemirror_mode": {
    "name": "ipython",
    "version": 3
   },
   "file_extension": ".py",
   "mimetype": "text/x-python",
   "name": "python",
   "nbconvert_exporter": "python",
   "pygments_lexer": "ipython3",
   "version": "3.11.1"
  }
 },
 "nbformat": 4,
 "nbformat_minor": 5
}
