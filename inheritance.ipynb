{
 "cells": [
  {
   "cell_type": "code",
   "execution_count": 14,
   "id": "b98915a8",
   "metadata": {},
   "outputs": [],
   "source": [
    "#single level inheritance\n",
    "class A:\n",
    "    def meth(self):\n",
    "        print(\"this is a class method\")\n",
    "class B(A):\n",
    "    def meth1(self):\n",
    "        print(\"this  is B class method\")"
   ]
  },
  {
   "cell_type": "code",
   "execution_count": 16,
   "id": "25b45056",
   "metadata": {},
   "outputs": [
    {
     "name": "stdout",
     "output_type": "stream",
     "text": [
      "this is a class method\n",
      "this  is B class method\n"
     ]
    }
   ],
   "source": [
    "obj=B()\n",
    "obj.meth()\n",
    "obj.meth1()"
   ]
  },
  {
   "cell_type": "code",
   "execution_count": null,
   "id": "12dca076",
   "metadata": {},
   "outputs": [],
   "source": [
    "#Hierarchical inheritance\n",
    "class A:\n",
    "    def __init__(self):\n",
    "        print(\"parent class A\")\n",
    "    def parent(self):\n",
    "        print('parent class ka function')\n",
    "class B(A):\n",
    "    def __init__(self):\n",
    "        print(\"child  class 1\")\n",
    "    def child1(self):\n",
    "        print('child1 ka function')\n",
    "class C(A):\n",
    "    def __init__(self):\n",
    "        print(\"child class 2\")\n",
    "    def child2(self):\n",
    "        print('child2 ka function')\n",
    "        A.__init__(self)"
   ]
  },
  {
   "cell_type": "code",
   "execution_count": 23,
   "id": "b9d5b81b",
   "metadata": {},
   "outputs": [
    {
     "name": "stdout",
     "output_type": "stream",
     "text": [
      "child class 2\n",
      "child2 ka function\n",
      "parent class A\n",
      "parent class ka function\n"
     ]
    }
   ],
   "source": [
    "obj=C()\n",
    "obj.child2()\n",
    "obj.parent()\n"
   ]
  },
  {
   "cell_type": "code",
   "execution_count": 24,
   "id": "7ef5916e",
   "metadata": {
    "scrolled": true
   },
   "outputs": [
    {
     "name": "stdout",
     "output_type": "stream",
     "text": [
      "child  class 1\n",
      "child1 ka function\n",
      "parent class ka function\n"
     ]
    }
   ],
   "source": [
    "obj1=B()\n",
    "obj1.child1()\n",
    "obj1.parent()"
   ]
  },
  {
   "cell_type": "code",
   "execution_count": 46,
   "id": "40ac973e",
   "metadata": {},
   "outputs": [],
   "source": [
    "#multiple inheritence\n",
    "class Father:\n",
    "    def __init__(self):\n",
    "        print(\"father constructor\")\n",
    "    def quality_father(self):\n",
    "        return \"honest and hardworking person\"\n",
    "class Mother:\n",
    "    def __init__(self):\n",
    "        print(\"mother constructor\")\n",
    "    def quality_mother(self):\n",
    "        return 'intelligent and beautiful'\n",
    "class Child(Father,Mother):\n",
    "    def __init__(self):\n",
    "        print('child constructor')\n",
    "    def inherit_quality(self):\n",
    "        print('quality inherited: ',Father.quality_father(self),Mother.quality_mother(self))"
   ]
  },
  {
   "cell_type": "code",
   "execution_count": 47,
   "id": "bc34c600",
   "metadata": {},
   "outputs": [
    {
     "name": "stdout",
     "output_type": "stream",
     "text": [
      "child constructor\n"
     ]
    }
   ],
   "source": [
    "obj=Child()"
   ]
  },
  {
   "cell_type": "code",
   "execution_count": 48,
   "id": "d76abadf",
   "metadata": {},
   "outputs": [
    {
     "name": "stdout",
     "output_type": "stream",
     "text": [
      "quality inherited:  honest and hardworking person intelligent and beautiful\n"
     ]
    }
   ],
   "source": [
    "obj.inherit_quality()"
   ]
  },
  {
   "cell_type": "code",
   "execution_count": 4,
   "id": "a8412866",
   "metadata": {},
   "outputs": [],
   "source": [
    "#multilevel inheritance\n",
    "class GrandParent:\n",
    "    def __init__(self):\n",
    "        print(\"parent class grand\")\n",
    "    def parent(self):\n",
    "        print('Grandparent class ka function')\n",
    "class Parent(GrandParent):\n",
    "    def __init__(self):\n",
    "        print(\"parent  class 1\")\n",
    "    def child1(self):\n",
    "        print('Parent ka function')\n",
    "class Child(Parent):\n",
    "    def __init__(self):\n",
    "        print(\"child class\")\n",
    "    def child2(self):\n",
    "        print('child ka function')\n",
    "        "
   ]
  },
  {
   "cell_type": "code",
   "execution_count": 5,
   "id": "2acd82ca",
   "metadata": {},
   "outputs": [
    {
     "name": "stdout",
     "output_type": "stream",
     "text": [
      "child class\n",
      "Parent ka function\n",
      "child ka function\n",
      "Grandparent class ka function\n"
     ]
    }
   ],
   "source": [
    "obj=Child()\n",
    "obj.child1()\n",
    "obj.child2()\n",
    "obj.parent()"
   ]
  },
  {
   "cell_type": "code",
   "execution_count": 6,
   "id": "1fe6dd69",
   "metadata": {},
   "outputs": [
    {
     "name": "stdout",
     "output_type": "stream",
     "text": [
      "parent  class 1\n"
     ]
    }
   ],
   "source": [
    "obj1=Parent()"
   ]
  },
  {
   "cell_type": "code",
   "execution_count": 8,
   "id": "5ad452c1",
   "metadata": {},
   "outputs": [],
   "source": [
    "#Hybrid inheritance\n",
    "class father:\n",
    "    def __init__(self):\n",
    "        print(\"father class costructor\")\n",
    "    def meth1(self):\n",
    "        print(\"this is father ,method\")\n",
    "class child1(father):\n",
    "    def __init__(self):\n",
    "        print(\"child 1 constructor\")\n",
    "    def meth2(self):\n",
    "        print(\"this is child1 method\")\n",
    "class child2(father):\n",
    "    def __init__(self):\n",
    "        print(\"this is child2 constructor\")\n",
    "    def meth3(self):\n",
    "        print(\"child2 method\")\n",
    "class son(child1,child2):\n",
    "    def __init__(self):\n",
    "        print(\"this is son constructor\")\n",
    "    def meth4(self):\n",
    "        print(\"this is son method\")"
   ]
  },
  {
   "cell_type": "code",
   "execution_count": 9,
   "id": "f53ee671",
   "metadata": {},
   "outputs": [
    {
     "name": "stdout",
     "output_type": "stream",
     "text": [
      "this is son constructor\n"
     ]
    }
   ],
   "source": [
    "obj=son()"
   ]
  },
  {
   "cell_type": "code",
   "execution_count": 11,
   "id": "f3db53ae",
   "metadata": {},
   "outputs": [
    {
     "name": "stdout",
     "output_type": "stream",
     "text": [
      "this is father ,method\n",
      "this is child1 method\n",
      "child2 method\n",
      "this is son method\n"
     ]
    }
   ],
   "source": [
    "obj.meth1()\n",
    "obj.meth2()\n",
    "obj.meth3()\n",
    "obj.meth4()"
   ]
  },
  {
   "cell_type": "code",
   "execution_count": null,
   "id": "ac0b878f",
   "metadata": {},
   "outputs": [],
   "source": []
  },
  {
   "cell_type": "code",
   "execution_count": null,
   "id": "6216cd40",
   "metadata": {},
   "outputs": [],
   "source": []
  }
 ],
 "metadata": {
  "kernelspec": {
   "display_name": "Python 3 (ipykernel)",
   "language": "python",
   "name": "python3"
  },
  "language_info": {
   "codemirror_mode": {
    "name": "ipython",
    "version": 3
   },
   "file_extension": ".py",
   "mimetype": "text/x-python",
   "name": "python",
   "nbconvert_exporter": "python",
   "pygments_lexer": "ipython3",
   "version": "3.10.8"
  }
 },
 "nbformat": 4,
 "nbformat_minor": 5
}
