{
 "cells": [
  {
   "cell_type": "code",
   "execution_count": 3,
   "id": "efc32cfb",
   "metadata": {},
   "outputs": [],
   "source": [
    "class Father:\n",
    "    def __init__(self):\n",
    "        print(\"father class constructor\")\n",
    "    def meth(self):\n",
    "        print(\"father method\")\n",
    "class Mother:\n",
    "    def __init__(self):\n",
    "        print(\"mother class constructor\")\n",
    "    def meth(self):\n",
    "        print(\"mother method\")\n",
    "class son(Father,Mother):\n",
    "    def __init__(self):\n",
    "        print(\"son class constructor\")\n",
    "    def meth(self):\n",
    "        print(\"son method\")\n",
    "        "
   ]
  },
  {
   "cell_type": "code",
   "execution_count": 4,
   "id": "e72b6fe7",
   "metadata": {},
   "outputs": [
    {
     "name": "stdout",
     "output_type": "stream",
     "text": [
      "son class constructor\n"
     ]
    }
   ],
   "source": [
    "obj=son()"
   ]
  },
  {
   "cell_type": "code",
   "execution_count": 5,
   "id": "5f4038f2",
   "metadata": {},
   "outputs": [
    {
     "data": {
      "text/plain": [
       "[__main__.son, __main__.Father, __main__.Mother, object]"
      ]
     },
     "execution_count": 5,
     "metadata": {},
     "output_type": "execute_result"
    }
   ],
   "source": [
    "#method resolution method\n",
    "son.mro()"
   ]
  },
  {
   "cell_type": "code",
   "execution_count": 24,
   "id": "21cc3512",
   "metadata": {},
   "outputs": [],
   "source": [
    "class X:\n",
    "    def __init__(self):\n",
    "        super().__init__()\n",
    "        print(\"X class constructor\")\n",
    "    def meth(self):\n",
    "        print(\"X method\")\n",
    "class Y:\n",
    "    def __init__(self):\n",
    "       # super().__init__()\n",
    "        print('y class constructor')\n",
    "    def meth(self):\n",
    "        print(\"y method\")\n",
    "class Z:\n",
    "    def __init__(self):\n",
    "        #super().__init__()\n",
    "        print(\"z constructor\")\n",
    "    def meth(self):\n",
    "        print(\"z method\")\n",
    "class A(X,Y):\n",
    "    def __init__(self):\n",
    "        super().__init__()\n",
    "        print(\"A constructor\")\n",
    "    def meth(self):\n",
    "        print(\"A method class\")\n",
    "class B(Y,Z):\n",
    "    def __init__(self):\n",
    "        super().__init__()\n",
    "        print(\"B class constructor\")\n",
    "    def meth(self):\n",
    "        print(\"B class method\")\n",
    "class M(A,B,Z):\n",
    "    def __init__(self):\n",
    "        super().__init__()\n",
    "        print(\"M class construtor\")\n",
    "    def meth(self):\n",
    "        print(\"M class method\")"
   ]
  },
  {
   "cell_type": "code",
   "execution_count": 25,
   "id": "10d0371c",
   "metadata": {},
   "outputs": [
    {
     "name": "stdout",
     "output_type": "stream",
     "text": [
      "y class constructor\n",
      "B class constructor\n",
      "X class constructor\n",
      "A constructor\n",
      "M class construtor\n"
     ]
    }
   ],
   "source": [
    "obj=M()"
   ]
  },
  {
   "cell_type": "code",
   "execution_count": 3,
   "id": "e9b28b65",
   "metadata": {},
   "outputs": [
    {
     "data": {
      "text/plain": [
       "[__main__.M,\n",
       " __main__.A,\n",
       " __main__.X,\n",
       " __main__.B,\n",
       " __main__.Y,\n",
       " __main__.Z,\n",
       " object]"
      ]
     },
     "execution_count": 3,
     "metadata": {},
     "output_type": "execute_result"
    }
   ],
   "source": [
    "M.mro()"
   ]
  },
  {
   "cell_type": "code",
   "execution_count": 4,
   "id": "2a59f198",
   "metadata": {},
   "outputs": [
    {
     "name": "stdout",
     "output_type": "stream",
     "text": [
      "M class method\n"
     ]
    }
   ],
   "source": [
    "obj.meth()"
   ]
  },
  {
   "cell_type": "code",
   "execution_count": 16,
   "id": "ca7f03de",
   "metadata": {},
   "outputs": [],
   "source": [
    "class A:\n",
    "    def __init__(self):\n",
    "        super().__init__()\n",
    "        print('A constructor')\n",
    "class B:\n",
    "    def __init__(self):\n",
    "        super().__init__()\n",
    "        print(\"B constructor\")\n",
    "class son(A,B):\n",
    "    def __init__(self):\n",
    "        super().__init__()\n",
    "        print(\"son constructor\")\n",
    "    "
   ]
  },
  {
   "cell_type": "code",
   "execution_count": 17,
   "id": "2d6334f7",
   "metadata": {},
   "outputs": [
    {
     "name": "stdout",
     "output_type": "stream",
     "text": [
      "B constructor\n",
      "A constructor\n",
      "son constructor\n"
     ]
    }
   ],
   "source": [
    "obj=son()"
   ]
  },
  {
   "cell_type": "code",
   "execution_count": null,
   "id": "48e851ec",
   "metadata": {},
   "outputs": [],
   "source": []
  }
 ],
 "metadata": {
  "kernelspec": {
   "display_name": "Python 3 (ipykernel)",
   "language": "python",
   "name": "python3"
  },
  "language_info": {
   "codemirror_mode": {
    "name": "ipython",
    "version": 3
   },
   "file_extension": ".py",
   "mimetype": "text/x-python",
   "name": "python",
   "nbconvert_exporter": "python",
   "pygments_lexer": "ipython3",
   "version": "3.10.8"
  }
 },
 "nbformat": 4,
 "nbformat_minor": 5
}
