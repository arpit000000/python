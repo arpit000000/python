{
 "cells": [
  {
   "cell_type": "code",
   "execution_count": 3,
   "id": "0f2f57d3",
   "metadata": {},
   "outputs": [
    {
     "name": "stdout",
     "output_type": "stream",
     "text": [
      "(5, 5, 3, 5, 5)\n"
     ]
    }
   ],
   "source": [
    "lst=['arpit','aryan','ram','shyam','seeta']\n",
    "s=tuple(map(len,lst))\n",
    "print(s)"
   ]
  },
  {
   "cell_type": "code",
   "execution_count": 13,
   "id": "46567db1",
   "metadata": {},
   "outputs": [
    {
     "name": "stdout",
     "output_type": "stream",
     "text": [
      "25\n"
     ]
    }
   ],
   "source": [
    "from functools import reduce\n",
    "l=[1,2,3,4,5]\n",
    "s=reduce(lambda x,y:x+y,l,10)\n",
    "print(s)"
   ]
  },
  {
   "cell_type": "code",
   "execution_count": 18,
   "id": "374d5e48",
   "metadata": {},
   "outputs": [
    {
     "name": "stdout",
     "output_type": "stream",
     "text": [
      "[1, 8, 27, 64, 125]\n"
     ]
    }
   ],
   "source": [
    "v=[]\n",
    "def cube(*a):\n",
    "    global v\n",
    "    for i in a:\n",
    "        v.append(i**3)\n",
    "a=cube(1,2,3,4,5)\n",
    "print(v)"
   ]
  },
  {
   "cell_type": "code",
   "execution_count": 21,
   "id": "ef61e7a4",
   "metadata": {},
   "outputs": [
    {
     "name": "stdout",
     "output_type": "stream",
     "text": [
      "120\n"
     ]
    }
   ],
   "source": [
    "def fact(n):\n",
    "    if n==1:\n",
    "        return n\n",
    "    else:\n",
    "        return n*fact(n-1)\n",
    "a=fact(5)\n",
    "print(a)"
   ]
  },
  {
   "cell_type": "code",
   "execution_count": 35,
   "id": "6f003afa",
   "metadata": {},
   "outputs": [
    {
     "name": "stdout",
     "output_type": "stream",
     "text": [
      "10\n"
     ]
    }
   ],
   "source": [
    "#lambda function\n",
    "def mul(n):\n",
    "    return lambda a:a*n\n",
    "d=mul(5)\n",
    "print(d(2))"
   ]
  },
  {
   "cell_type": "code",
   "execution_count": 39,
   "id": "3e8d4422",
   "metadata": {},
   "outputs": [
    {
     "name": "stdout",
     "output_type": "stream",
     "text": [
      "{'a': 2, 'b': 5, 'c': 6}\n"
     ]
    }
   ],
   "source": [
    "a=lambda **k:print(k)\n",
    "a(a=2,b=5,c=6)"
   ]
  },
  {
   "cell_type": "code",
   "execution_count": 43,
   "id": "c332b74d",
   "metadata": {},
   "outputs": [
    {
     "name": "stdout",
     "output_type": "stream",
     "text": [
      "[1, 4, 24]\n"
     ]
    }
   ],
   "source": [
    "a=map(lambda x,y=5:x*y,[1,2,3,4,5,6,7],[1,2,8])\n",
    "print(list(a))"
   ]
  },
  {
   "cell_type": "code",
   "execution_count": 44,
   "id": "28334060",
   "metadata": {},
   "outputs": [
    {
     "name": "stdout",
     "output_type": "stream",
     "text": [
      "('1', '2', '3', '4', '5')\n"
     ]
    }
   ],
   "source": [
    "l=[1,2,3,4,5]\n",
    "a=map(str,l)\n",
    "print(tuple(a))"
   ]
  },
  {
   "cell_type": "code",
   "execution_count": 53,
   "id": "03d82b60",
   "metadata": {},
   "outputs": [],
   "source": [
    "#filter function\n",
    "a=filter(lambda x:print('odd',x) if x%2!=0 else print('even',x),[2,5,9,3,7])"
   ]
  },
  {
   "cell_type": "code",
   "execution_count": 54,
   "id": "06b4cbd9",
   "metadata": {},
   "outputs": [
    {
     "name": "stdout",
     "output_type": "stream",
     "text": [
      "even 2\n",
      "odd 5\n",
      "odd 9\n",
      "odd 3\n",
      "odd 7\n",
      "[]\n"
     ]
    }
   ],
   "source": [
    "print(list(a))"
   ]
  },
  {
   "cell_type": "code",
   "execution_count": 69,
   "id": "5f0d5469",
   "metadata": {},
   "outputs": [
    {
     "name": "stdout",
     "output_type": "stream",
     "text": [
      "(2, 4, 6, 8, 10)\n",
      "27\n"
     ]
    }
   ],
   "source": [
    "l=[12,1,2,3,4,5]\n",
    "from functools import reduce\n",
    "a=map(lambda x:x+x,[1,2,3,4,5] )\n",
    "print(tuple(a))\n",
    "b=reduce(lambda x,y,z=0:x+y+z,l)\n",
    "print(b)"
   ]
  },
  {
   "cell_type": "code",
   "execution_count": 71,
   "id": "7eb6c38e",
   "metadata": {},
   "outputs": [
    {
     "ename": "SyntaxError",
     "evalue": "unmatched ')' (1759043386.py, line 1)",
     "output_type": "error",
     "traceback": [
      "\u001b[1;36m  Cell \u001b[1;32mIn [71], line 1\u001b[1;36m\u001b[0m\n\u001b[1;33m    d=reduce(lambda x:x+y,map(lambda x:x*x,filter(lambda x:x>3,l))))\u001b[0m\n\u001b[1;37m                                                                   ^\u001b[0m\n\u001b[1;31mSyntaxError\u001b[0m\u001b[1;31m:\u001b[0m unmatched ')'\n"
     ]
    }
   ],
   "source": [
    "d=reduce(lambda x:x+y,map(lambda x:x*x,filter(lambda x:x>3,l)))"
   ]
  },
  {
   "cell_type": "code",
   "execution_count": 87,
   "id": "a6e44cfb",
   "metadata": {},
   "outputs": [],
   "source": [
    "def prime(n):\n",
    "    c=0\n",
    "    if n==1:\n",
    "        print(\"not prime\")\n",
    "    else:\n",
    "        for i in range(1,n+1):\n",
    "            if n%i==0:\n",
    "                c+=1\n",
    "        if c==2:\n",
    "            print('prime',n)\n",
    "        else:\n",
    "            print('not prime',n)"
   ]
  },
  {
   "cell_type": "code",
   "execution_count": 88,
   "id": "ae982595",
   "metadata": {},
   "outputs": [
    {
     "name": "stdout",
     "output_type": "stream",
     "text": [
      "not prime 8\n"
     ]
    }
   ],
   "source": [
    "prime(8)"
   ]
  },
  {
   "cell_type": "code",
   "execution_count": null,
   "id": "6ef0de71",
   "metadata": {},
   "outputs": [],
   "source": [
    "n1=int(input(\"enter starting range: \"))\n",
    "for i in range(n1,n2+1):\n",
    "    "
   ]
  }
 ],
 "metadata": {
  "kernelspec": {
   "display_name": "Python 3 (ipykernel)",
   "language": "python",
   "name": "python3"
  },
  "language_info": {
   "codemirror_mode": {
    "name": "ipython",
    "version": 3
   },
   "file_extension": ".py",
   "mimetype": "text/x-python",
   "name": "python",
   "nbconvert_exporter": "python",
   "pygments_lexer": "ipython3",
   "version": "3.10.8"
  }
 },
 "nbformat": 4,
 "nbformat_minor": 5
}
