{
 "cells": [
  {
   "cell_type": "markdown",
   "id": "42699e4b",
   "metadata": {},
   "source": [
    "#Decorators\n",
    "In Python, a decorator is a special type of function that can be used to modify or enhance the behavior of another function without changing its source code. Decorators provide a way to wrap a function and execute some code before and/or after the wrapped function's execution.\n",
    "They provide a way to add additional functionality to functions without modifying their code directly."
   ]
  },
  {
   "cell_type": "code",
   "execution_count": 1,
   "id": "d36c2e70",
   "metadata": {},
   "outputs": [
    {
     "name": "stdout",
     "output_type": "stream",
     "text": [
      "Before the function is called\n",
      "Hello, world!\n",
      "After the function is called\n"
     ]
    }
   ],
   "source": [
    "def decorator_function(original_function):\n",
    "    def wrapper_function():\n",
    "        print(\"Before the function is called\")\n",
    "        original_function()\n",
    "        print(\"After the function is called\")\n",
    "    return wrapper_function\n",
    "\n",
    "@decorator_function\n",
    "def hello():\n",
    "    print(\"Hello, world!\")\n",
    "hello()"
   ]
  },
  {
   "cell_type": "code",
   "execution_count": 2,
   "id": "a1614814",
   "metadata": {},
   "outputs": [
    {
     "name": "stdout",
     "output_type": "stream",
     "text": [
      "Hello dear\n",
      "addition:  10\n",
      "Bye dear\n"
     ]
    }
   ],
   "source": [
    "def main(fun):\n",
    "    def inner():\n",
    "        print(\"Hello dear\")\n",
    "        fun()\n",
    "        print(\"Bye dear\")\n",
    "    return inner\n",
    "@main\n",
    "def add():\n",
    "    print(\"addition: \",5+5)\n",
    "add()"
   ]
  },
  {
   "cell_type": "code",
   "execution_count": 3,
   "id": "ba715b77",
   "metadata": {},
   "outputs": [],
   "source": [
    "import time\n",
    "def timer_test(fun):\n",
    "    def inner_fun():\n",
    "        start=time.time()\n",
    "        fun()\n",
    "        stop=time.time()\n",
    "        print(stop-start)\n",
    "    return inner_fun\n",
    "@timer_test\n",
    "def test():\n",
    "    print(55+7530)\n",
    "    "
   ]
  },
  {
   "cell_type": "code",
   "execution_count": 4,
   "id": "0c53461f",
   "metadata": {},
   "outputs": [
    {
     "name": "stdout",
     "output_type": "stream",
     "text": [
      "7585\n",
      "0.0\n"
     ]
    }
   ],
   "source": [
    "test()"
   ]
  },
  {
   "cell_type": "code",
   "execution_count": 5,
   "id": "20ed145f",
   "metadata": {},
   "outputs": [],
   "source": [
    "@timer_test\n",
    "def test2():\n",
    "    for i in range(1,1000000):\n",
    "        pass"
   ]
  },
  {
   "cell_type": "code",
   "execution_count": 6,
   "id": "c825630c",
   "metadata": {},
   "outputs": [
    {
     "name": "stdout",
     "output_type": "stream",
     "text": [
      "0.02768087387084961\n"
     ]
    }
   ],
   "source": [
    "test2()"
   ]
  },
  {
   "cell_type": "code",
   "execution_count": null,
   "id": "5adf6ca4",
   "metadata": {},
   "outputs": [],
   "source": []
  }
 ],
 "metadata": {
  "kernelspec": {
   "display_name": "Python 3 (ipykernel)",
   "language": "python",
   "name": "python3"
  },
  "language_info": {
   "codemirror_mode": {
    "name": "ipython",
    "version": 3
   },
   "file_extension": ".py",
   "mimetype": "text/x-python",
   "name": "python",
   "nbconvert_exporter": "python",
   "pygments_lexer": "ipython3",
   "version": "3.11.1"
  }
 },
 "nbformat": 4,
 "nbformat_minor": 5
}
