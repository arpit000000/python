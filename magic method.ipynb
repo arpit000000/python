{
 "cells": [
  {
   "cell_type": "code",
   "execution_count": 31,
   "id": "99a6ed3b",
   "metadata": {},
   "outputs": [],
   "source": [
    "class A:\n",
    "    def __new__(cls):\n",
    "        print(\"new\")\n",
    "        inst=object.__new__(cls)\n",
    "        return inst\n",
    "    def __init__(self):\n",
    "        print(\"init\")\n",
    "        self.name=\"arpit\"\n",
    "    "
   ]
  },
  {
   "cell_type": "code",
   "execution_count": 32,
   "id": "22c6800c",
   "metadata": {},
   "outputs": [
    {
     "name": "stdout",
     "output_type": "stream",
     "text": [
      "new\n",
      "init\n"
     ]
    }
   ],
   "source": [
    "a=A()"
   ]
  },
  {
   "cell_type": "code",
   "execution_count": 37,
   "id": "f60c74e6",
   "metadata": {},
   "outputs": [
    {
     "data": {
      "text/plain": [
       "'arpit'"
      ]
     },
     "execution_count": 37,
     "metadata": {},
     "output_type": "execute_result"
    }
   ],
   "source": [
    "a.name"
   ]
  },
  {
   "cell_type": "code",
   "execution_count": 43,
   "id": "8a264ff5",
   "metadata": {},
   "outputs": [],
   "source": [
    "class a:\n",
    "    def __init__(self,n):\n",
    "        self.__name=n\n"
   ]
  },
  {
   "cell_type": "code",
   "execution_count": 44,
   "id": "cee82def",
   "metadata": {},
   "outputs": [],
   "source": [
    "obj=a(\"arpit\")"
   ]
  },
  {
   "cell_type": "code",
   "execution_count": 46,
   "id": "96653daa",
   "metadata": {},
   "outputs": [
    {
     "name": "stdout",
     "output_type": "stream",
     "text": [
      "arpit\n"
     ]
    }
   ],
   "source": [
    "print(obj._a__name)"
   ]
  },
  {
   "cell_type": "code",
   "execution_count": 47,
   "id": "56c66ed4",
   "metadata": {},
   "outputs": [
    {
     "name": "stdout",
     "output_type": "stream",
     "text": [
      "'hello'\n"
     ]
    }
   ],
   "source": [
    "print(repr(\"hello\"))"
   ]
  },
  {
   "cell_type": "code",
   "execution_count": 49,
   "id": "ea099612",
   "metadata": {},
   "outputs": [
    {
     "name": "stdout",
     "output_type": "stream",
     "text": [
      "hello\n"
     ]
    }
   ],
   "source": [
    "print(str(\"hello\"))"
   ]
  },
  {
   "cell_type": "code",
   "execution_count": 101,
   "id": "4bb0a42a",
   "metadata": {},
   "outputs": [],
   "source": [
    "class employee:\n",
    "    def __init__(self):\n",
    "        self.name=\"abc\"\n",
    "        self.salary=44\n",
    "    def __str__(self):\n",
    "        return \"Hello=\"+self.name + \",Salary=\" + str(self.salary)"
   ]
  },
  {
   "cell_type": "code",
   "execution_count": 102,
   "id": "7779dc12",
   "metadata": {},
   "outputs": [],
   "source": [
    "e1=employee()"
   ]
  },
  {
   "cell_type": "code",
   "execution_count": 103,
   "id": "842b56c4",
   "metadata": {},
   "outputs": [
    {
     "name": "stdout",
     "output_type": "stream",
     "text": [
      "<__main__.employee object at 0x000001AC800055D0>\n"
     ]
    }
   ],
   "source": [
    "print(repr(e1))"
   ]
  },
  {
   "cell_type": "code",
   "execution_count": 104,
   "id": "832f7849",
   "metadata": {},
   "outputs": [
    {
     "name": "stdout",
     "output_type": "stream",
     "text": [
      "Hello=abc,Salary=44\n"
     ]
    }
   ],
   "source": [
    "print(e1)"
   ]
  },
  {
   "cell_type": "code",
   "execution_count": 80,
   "id": "1a1cb69a",
   "metadata": {},
   "outputs": [],
   "source": [
    "class adder:\n",
    "    def __init__(self,k):\n",
    "        self.k=k\n",
    "    def __call__(self,n):\n",
    "        self.k+=n\n",
    "    def __repr__(self):\n",
    "        return \"value =\" + str(self.k)"
   ]
  },
  {
   "cell_type": "code",
   "execution_count": 81,
   "id": "8fc75311",
   "metadata": {},
   "outputs": [],
   "source": [
    "a1=adder(7)"
   ]
  },
  {
   "cell_type": "code",
   "execution_count": 82,
   "id": "9557ce36",
   "metadata": {},
   "outputs": [
    {
     "name": "stdout",
     "output_type": "stream",
     "text": [
      "value =7\n"
     ]
    }
   ],
   "source": [
    "print(repr(a1))"
   ]
  },
  {
   "cell_type": "code",
   "execution_count": 83,
   "id": "dfc61679",
   "metadata": {},
   "outputs": [],
   "source": [
    "a1(9)"
   ]
  },
  {
   "cell_type": "code",
   "execution_count": 84,
   "id": "f52d2902",
   "metadata": {},
   "outputs": [
    {
     "name": "stdout",
     "output_type": "stream",
     "text": [
      "value =16\n"
     ]
    }
   ],
   "source": [
    "print(repr(a1))"
   ]
  },
  {
   "cell_type": "code",
   "execution_count": 107,
   "id": "85a852bb",
   "metadata": {},
   "outputs": [],
   "source": [
    "class distance:\n",
    "    def __init__(self,x,y):\n",
    "        self.ft=x\n",
    "        self.inch=y\n",
    "    def __ge__(self,x):\n",
    "        val1=self.ft*12+self.inch\n",
    "        val2=x.ft*12+x.inch\n",
    "        if val1>val2:\n",
    "            return True\n",
    "        else:\n",
    "            return False\n",
    "    "
   ]
  },
  {
   "cell_type": "code",
   "execution_count": 108,
   "id": "cb9779cc",
   "metadata": {},
   "outputs": [
    {
     "name": "stdout",
     "output_type": "stream",
     "text": [
      "True\n"
     ]
    }
   ],
   "source": [
    "d1=distance(7,3)\n",
    "d2=distance(4,10)\n",
    "print(d1>=d2)"
   ]
  },
  {
   "cell_type": "code",
   "execution_count": null,
   "id": "8ae8a221",
   "metadata": {},
   "outputs": [],
   "source": []
  }
 ],
 "metadata": {
  "kernelspec": {
   "display_name": "Python 3 (ipykernel)",
   "language": "python",
   "name": "python3"
  },
  "language_info": {
   "codemirror_mode": {
    "name": "ipython",
    "version": 3
   },
   "file_extension": ".py",
   "mimetype": "text/x-python",
   "name": "python",
   "nbconvert_exporter": "python",
   "pygments_lexer": "ipython3",
   "version": "3.11.1"
  }
 },
 "nbformat": 4,
 "nbformat_minor": 5
}
