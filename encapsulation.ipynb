{
 "cells": [
  {
   "cell_type": "code",
   "execution_count": 25,
   "id": "9b0701d2-e0e5-4a65-a30f-cc4b6aedac21",
   "metadata": {},
   "outputs": [],
   "source": [
    "#emcapsulation hides the implementation details only essential details are revealed\n",
    "class car:\n",
    "    def __init__(self,name,year,speed,model):\n",
    "        self.__name=name\n",
    "        self.year=year\n",
    "        self.__speed=speed#__shows private variable\n",
    "        self.__model=model\n",
    "    def set_data(self,speed):\n",
    "        self.__speed=0 if speed<0 else speed\n",
    "    def get_data(self):\n",
    "        print(self.__speed)"
   ]
  },
  {
   "cell_type": "code",
   "execution_count": 2,
   "id": "5a9d0edf-45ec-40f2-815c-65891f087f33",
   "metadata": {},
   "outputs": [],
   "source": [
    "a=car(\"toyota\",2022,50,21)"
   ]
  },
  {
   "cell_type": "code",
   "execution_count": 9,
   "id": "ae7853a6-34ad-4a09-a18e-6d670bccccd9",
   "metadata": {},
   "outputs": [
    {
     "data": {
      "text/plain": [
       "2022"
      ]
     },
     "execution_count": 9,
     "metadata": {},
     "output_type": "execute_result"
    }
   ],
   "source": [
    "a.year#accessing public variable\n"
   ]
  },
  {
   "cell_type": "code",
   "execution_count": 11,
   "id": "f65da063-a80c-4f2f-b655-1936ef1be72a",
   "metadata": {},
   "outputs": [
    {
     "data": {
      "text/plain": [
       "50"
      ]
     },
     "execution_count": 11,
     "metadata": {},
     "output_type": "execute_result"
    }
   ],
   "source": [
    "a._car__speed #accessing private variable"
   ]
  },
  {
   "cell_type": "code",
   "execution_count": 15,
   "id": "b1b0a953-360a-419f-8cde-12aa1ac290a3",
   "metadata": {},
   "outputs": [],
   "source": [
    "a.set_data(120)"
   ]
  },
  {
   "cell_type": "code",
   "execution_count": 17,
   "id": "50420b37-8dfc-493e-9e0a-d3d41437ca2d",
   "metadata": {},
   "outputs": [
    {
     "name": "stdout",
     "output_type": "stream",
     "text": [
      "120\n"
     ]
    }
   ],
   "source": [
    "a.get_data()"
   ]
  },
  {
   "cell_type": "code",
   "execution_count": 21,
   "id": "4e3ef68b-3c1f-44f8-a29f-64a29dce0479",
   "metadata": {},
   "outputs": [],
   "source": [
    "class bank_account():\n",
    "    def __init__(self,bal):\n",
    "        self.__balance=bal\n",
    "    def diposit(self,amm):\n",
    "        self.__balance+=amm\n",
    "    def withdrawn(self,amm):\n",
    "        if self.__balance>=amm:\n",
    "            self.__balance-=amm\n",
    "            return \"you can withdrawl\"\n",
    "        else:\n",
    "            return False\n",
    "    def get_data(self):\n",
    "        return self.__balance\n",
    "#we cannot access directy we access through object"
   ]
  },
  {
   "cell_type": "code",
   "execution_count": 22,
   "id": "11680578-93c0-4d10-9519-f8100f62858e",
   "metadata": {},
   "outputs": [],
   "source": [
    "o1=bank_account(50000)"
   ]
  },
  {
   "cell_type": "code",
   "execution_count": 23,
   "id": "4beb3aed-9703-41db-aaba-b3e116be7950",
   "metadata": {},
   "outputs": [
    {
     "data": {
      "text/plain": [
       "'you can withdrawl'"
      ]
     },
     "execution_count": 23,
     "metadata": {},
     "output_type": "execute_result"
    }
   ],
   "source": [
    "o1.withdrawn(2500)"
   ]
  },
  {
   "cell_type": "code",
   "execution_count": 24,
   "id": "6c81fca8-e31b-4cce-b668-a654ac90ea82",
   "metadata": {},
   "outputs": [
    {
     "data": {
      "text/plain": [
       "47500"
      ]
     },
     "execution_count": 24,
     "metadata": {},
     "output_type": "execute_result"
    }
   ],
   "source": [
    "o1.get_data()"
   ]
  },
  {
   "cell_type": "code",
   "execution_count": null,
   "id": "1898f095-3a72-4dfc-95fb-f42aa15f8875",
   "metadata": {},
   "outputs": [],
   "source": []
  }
 ],
 "metadata": {
  "kernelspec": {
   "display_name": "Python 3 (ipykernel)",
   "language": "python",
   "name": "python3"
  },
  "language_info": {
   "codemirror_mode": {
    "name": "ipython",
    "version": 3
   },
   "file_extension": ".py",
   "mimetype": "text/x-python",
   "name": "python",
   "nbconvert_exporter": "python",
   "pygments_lexer": "ipython3",
   "version": "3.10.8"
  }
 },
 "nbformat": 4,
 "nbformat_minor": 5
}
