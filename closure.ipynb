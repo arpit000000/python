{
 "cells": [
  {
   "cell_type": "markdown",
   "id": "88c8e36f",
   "metadata": {},
   "source": [
    "#Closure\n",
    "In Python, a closure is a function object that has access to variables in its enclosing scope, even when the enclosing function has finished executing. It \"remembers\" the values of these variables and can still access them later.\n",
    "The interesting part is that even after the outer_function has finished executing and returned the inner_function, the inner_function still retains access to the variable x. This is what makes it a closure."
   ]
  },
  {
   "cell_type": "code",
   "execution_count": 20,
   "id": "763bcb13",
   "metadata": {},
   "outputs": [
    {
     "name": "stdout",
     "output_type": "stream",
     "text": [
      "8\n",
      "12\n"
     ]
    }
   ],
   "source": [
    "def outer(x):\n",
    "    def inner(y):\n",
    "        print(x+y)\n",
    "    return inner\n",
    "b=outer(5)\n",
    "b(3)\n",
    "b(7)"
   ]
  },
  {
   "cell_type": "code",
   "execution_count": 18,
   "id": "d386e1e4",
   "metadata": {},
   "outputs": [
    {
     "name": "stdout",
     "output_type": "stream",
     "text": [
      "10\n"
     ]
    }
   ],
   "source": [
    "def outer(x):\n",
    "    def inner():\n",
    "        print(x*2)\n",
    "    return inner()\n",
    "outer(5)\n"
   ]
  },
  {
   "cell_type": "code",
   "execution_count": 19,
   "id": "10abaf71",
   "metadata": {},
   "outputs": [
    {
     "data": {
      "text/plain": [
       "<function __main__.outer.<locals>.inner(y)>"
      ]
     },
     "execution_count": 19,
     "metadata": {},
     "output_type": "execute_result"
    }
   ],
   "source": [
    "def outer(x):\n",
    "    def inner(y):\n",
    "        print(x+y)\n",
    "    return inner\n",
    "outer(5)"
   ]
  },
  {
   "cell_type": "code",
   "execution_count": null,
   "id": "1da808de",
   "metadata": {},
   "outputs": [],
   "source": []
  }
 ],
 "metadata": {
  "kernelspec": {
   "display_name": "Python 3 (ipykernel)",
   "language": "python",
   "name": "python3"
  },
  "language_info": {
   "codemirror_mode": {
    "name": "ipython",
    "version": 3
   },
   "file_extension": ".py",
   "mimetype": "text/x-python",
   "name": "python",
   "nbconvert_exporter": "python",
   "pygments_lexer": "ipython3",
   "version": "3.11.1"
  }
 },
 "nbformat": 4,
 "nbformat_minor": 5
}
