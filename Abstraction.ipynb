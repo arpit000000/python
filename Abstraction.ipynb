{
 "cells": [
  {
   "cell_type": "markdown",
   "id": "1a69cfdb",
   "metadata": {},
   "source": [
    "Abstraction in Python is a concept that allows you to create abstract classes and abstract methods. Abstraction is a fundamental principle of object-oriented programming (OOP) that focuses on hiding implementation details and exposing only the essential features of a class\n",
    "Abstraction allows you to define common methods and properties in the abstract base class while forcing the subclasses to implement their own versions of those methods. This way, you can define a common interface for multiple related classes and provide a blueprint for their behavior."
   ]
  },
  {
   "cell_type": "code",
   "execution_count": 8,
   "id": "e9a99a05",
   "metadata": {},
   "outputs": [
    {
     "name": "stdout",
     "output_type": "stream",
     "text": [
      "Every car have four wheel\n",
      "120\n",
      "150\n"
     ]
    }
   ],
   "source": [
    "from abc import ABC,abstractmethod\n",
    "class car(ABC):\n",
    "    def show(self):\n",
    "        print(\"Every car have four wheel\")\n",
    "    @abstractmethod\n",
    "    def speed(self):\n",
    "        pass\n",
    "class tata(car):\n",
    "    def speed(self):\n",
    "        print(\"120\")\n",
    "class maruti(car):\n",
    "    def speed(self):\n",
    "        print(150)\n",
    "obj=tata()#object of abstract class never created\n",
    "obj.show()\n",
    "obj.speed()\n",
    "obj1=maruti()\n",
    "obj1.speed()"
   ]
  },
  {
   "cell_type": "code",
   "execution_count": 10,
   "id": "9d5e9d5a",
   "metadata": {},
   "outputs": [
    {
     "name": "stdout",
     "output_type": "stream",
     "text": [
      "area: 78.53981633974483\n",
      "perimeter: 31.41592653589793\n"
     ]
    }
   ],
   "source": [
    "from abc import ABC,abstractmethod\n",
    "import math\n",
    "class shape(ABC):\n",
    "    def __init__(self):\n",
    "        print(\"all shapes have area and perimeter\")\n",
    "    @abstractmethod\n",
    "    def area(self):\n",
    "        pass\n",
    "    @abstractmethod\n",
    "    def perimeter(self):\n",
    "        pass\n",
    "class circle(shape):\n",
    "    def __init__(self,r):\n",
    "        self.r=r\n",
    "    def area(self):\n",
    "        print(\"area:\",math.pi*(self.r**2))\n",
    "    def perimeter(self):\n",
    "        print(\"perimeter:\",2*math.pi*self.r)\n",
    "obj=circle(5)\n",
    "obj.area()\n",
    "obj.perimeter()\n",
    "    "
   ]
  },
  {
   "cell_type": "code",
   "execution_count": null,
   "id": "0440635a",
   "metadata": {},
   "outputs": [],
   "source": []
  }
 ],
 "metadata": {
  "kernelspec": {
   "display_name": "Python 3 (ipykernel)",
   "language": "python",
   "name": "python3"
  },
  "language_info": {
   "codemirror_mode": {
    "name": "ipython",
    "version": 3
   },
   "file_extension": ".py",
   "mimetype": "text/x-python",
   "name": "python",
   "nbconvert_exporter": "python",
   "pygments_lexer": "ipython3",
   "version": "3.11.1"
  }
 },
 "nbformat": 4,
 "nbformat_minor": 5
}
