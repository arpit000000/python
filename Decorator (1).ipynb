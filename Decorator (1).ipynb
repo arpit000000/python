{
 "cells": [
  {
   "cell_type": "markdown",
   "id": "42699e4b",
   "metadata": {},
   "source": [
    "#Decorators\n",
    "In Python, a decorator is a special type of function that can be used to modify or enhance the behavior of another function without changing its source code. Decorators provide a way to wrap a function and execute some code before and/or after the wrapped function's execution.\n",
    "They provide a way to add additional functionality to functions without modifying their code directly."
   ]
  },
  {
   "cell_type": "code",
   "execution_count": 1,
   "id": "d36c2e70",
   "metadata": {},
   "outputs": [
    {
     "name": "stdout",
     "output_type": "stream",
     "text": [
      "Before the function is called\n",
      "Hello, world!\n",
      "After the function is called\n"
     ]
    }
   ],
   "source": [
    "def decorator_function(original_function):\n",
    "    def wrapper_function():\n",
    "        print(\"Before the function is called\")\n",
    "        original_function()\n",
    "        print(\"After the function is called\")\n",
    "    return wrapper_function\n",
    "\n",
    "@decorator_function\n",
    "def hello():\n",
    "    print(\"Hello, world!\")\n",
    "hello()"
   ]
  },
  {
   "cell_type": "code",
   "execution_count": 2,
   "id": "a1614814",
   "metadata": {},
   "outputs": [
    {
     "name": "stdout",
     "output_type": "stream",
     "text": [
      "Hello dear\n",
      "addition:  10\n",
      "Bye dear\n"
     ]
    }
   ],
   "source": [
    "def main(fun):\n",
    "    def inner():\n",
    "        print(\"Hello dear\")\n",
    "        fun()\n",
    "        print(\"Bye dear\")\n",
    "    return inner\n",
    "@main\n",
    "def add():\n",
    "    print(\"addition: \",5+5)\n",
    "add()"
   ]
  },
  {
   "cell_type": "code",
   "execution_count": 14,
   "id": "ba715b77",
   "metadata": {},
   "outputs": [],
   "source": [
    "import time\n",
    "def timer_test(fun):\n",
    "    def inner_fun(*k):\n",
    "        start=time.time()\n",
    "        fun(*k)\n",
    "        stop=time.time()\n",
    "        print('time taken by:',fun.__name__ ,stop-start)\n",
    "    return inner_fun\n",
    "@timer_test\n",
    "def test():\n",
    "    print(55+7530)\n",
    "    time.sleep(2)\n",
    "    "
   ]
  },
  {
   "cell_type": "code",
   "execution_count": 15,
   "id": "0c53461f",
   "metadata": {},
   "outputs": [
    {
     "name": "stdout",
     "output_type": "stream",
     "text": [
      "7585\n",
      "time taken by: test 2.0007102489471436\n"
     ]
    }
   ],
   "source": [
    "test()"
   ]
  },
  {
   "cell_type": "code",
   "execution_count": 16,
   "id": "20ed145f",
   "metadata": {},
   "outputs": [],
   "source": [
    "@timer_test\n",
    "def test2():\n",
    "    for i in range(1,1000000):\n",
    "        pass"
   ]
  },
  {
   "cell_type": "code",
   "execution_count": 17,
   "id": "c825630c",
   "metadata": {},
   "outputs": [
    {
     "name": "stdout",
     "output_type": "stream",
     "text": [
      "time taken by: test2 0.0810692310333252\n"
     ]
    }
   ],
   "source": [
    "test2()"
   ]
  },
  {
   "cell_type": "code",
   "execution_count": 18,
   "id": "5adf6ca4",
   "metadata": {},
   "outputs": [
    {
     "name": "stdout",
     "output_type": "stream",
     "text": [
      "25\n",
      "time taken by: square 2.001993179321289\n"
     ]
    }
   ],
   "source": [
    "@timer_test\n",
    "def square(n):\n",
    "    print(n**2)\n",
    "    time.sleep(2)\n",
    "square(5)"
   ]
  },
  {
   "cell_type": "code",
   "execution_count": 25,
   "id": "98b5fde3",
   "metadata": {},
   "outputs": [
    {
     "data": {
      "text/plain": [
       "<function __main__.check.<locals>.outer.<locals>.inner(*args)>"
      ]
     },
     "execution_count": 25,
     "metadata": {},
     "output_type": "execute_result"
    }
   ],
   "source": [
    "def check(data_type):\n",
    "    def outer(fun):\n",
    "        def inner(*args):\n",
    "            if type(*args) == data_type:\n",
    "                fun(*args)\n",
    "            else:\n",
    "                raise TypeError(\"ye datatype nhi chalega\")\n",
    "        return inner\n",
    "    return outer\n",
    "@check\n",
    "def square(num):\n",
    "    print(num**2)\n",
    "square(2)"
   ]
  },
  {
   "cell_type": "code",
   "execution_count": null,
   "id": "6e1125eb",
   "metadata": {},
   "outputs": [],
   "source": []
  },
  {
   "cell_type": "code",
   "execution_count": null,
   "id": "863b2ecd",
   "metadata": {},
   "outputs": [],
   "source": []
  }
 ],
 "metadata": {
  "kernelspec": {
   "display_name": "Python 3 (ipykernel)",
   "language": "python",
   "name": "python3"
  },
  "language_info": {
   "codemirror_mode": {
    "name": "ipython",
    "version": 3
   },
   "file_extension": ".py",
   "mimetype": "text/x-python",
   "name": "python",
   "nbconvert_exporter": "python",
   "pygments_lexer": "ipython3",
   "version": "3.11.1"
  }
 },
 "nbformat": 4,
 "nbformat_minor": 5
}
