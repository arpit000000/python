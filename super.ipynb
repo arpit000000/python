{
 "cells": [
  {
   "cell_type": "code",
   "execution_count": 22,
   "id": "3d4054de",
   "metadata": {},
   "outputs": [],
   "source": [
    "class phone:\n",
    "    def __init__(self,price,brand,camera):\n",
    "        print(\"inside phone constructor\")\n",
    "        self.__price=price\n",
    "        self.brand=brand\n",
    "        self.camera=camera\n",
    "    def display(self):\n",
    "        print('price private',self.__price)\n",
    "class smartphone(phone):\n",
    "    def __init__(self,price,brand,camera,os,ram):\n",
    "        print(\"inside smart phone constructor\")\n",
    "        super().__init__(price,brand,camera)\n",
    "        self.os=os\n",
    "        self.ram=ram\n",
    "        print('inside smart phone constructor')\n",
    "    "
   ]
  },
  {
   "cell_type": "code",
   "execution_count": 23,
   "id": "0066cdab",
   "metadata": {},
   "outputs": [
    {
     "name": "stdout",
     "output_type": "stream",
     "text": [
      "inside smart phone constructor\n",
      "inside phone constructor\n",
      "inside smart phone constructor\n"
     ]
    }
   ],
   "source": [
    "s=smartphone(2000,'apple',12,'android',2)"
   ]
  },
  {
   "cell_type": "code",
   "execution_count": 24,
   "id": "10b2b1f6",
   "metadata": {},
   "outputs": [
    {
     "name": "stdout",
     "output_type": "stream",
     "text": [
      "price private 2000\n"
     ]
    }
   ],
   "source": [
    "s.display()"
   ]
  },
  {
   "cell_type": "code",
   "execution_count": 27,
   "id": "2d86bc6e",
   "metadata": {},
   "outputs": [
    {
     "data": {
      "text/plain": [
       "2000"
      ]
     },
     "execution_count": 27,
     "metadata": {},
     "output_type": "execute_result"
    }
   ],
   "source": [
    "s._phone__price"
   ]
  },
  {
   "cell_type": "code",
   "execution_count": 57,
   "id": "54011288",
   "metadata": {},
   "outputs": [],
   "source": [
    "class person:\n",
    "    def __init__(self,name):\n",
    "        self.name=name\n",
    "    def printname(self):\n",
    "        print(\"Name:\",self.name)\n",
    "class student(person):\n",
    "    def __init__(self,name,rollno):\n",
    "        #super().__init__(name)\n",
    "        person.__init__(self,name)\n",
    "        self.rollno=rollno\n",
    "    def display(self):\n",
    "        person.printname(self)\n",
    "        print('rollno',self.rollno)\n",
    "        "
   ]
  },
  {
   "cell_type": "code",
   "execution_count": 58,
   "id": "46e434f8",
   "metadata": {},
   "outputs": [],
   "source": [
    "s1=student('arpit',20)"
   ]
  },
  {
   "cell_type": "code",
   "execution_count": 59,
   "id": "183ccb4a",
   "metadata": {},
   "outputs": [
    {
     "name": "stdout",
     "output_type": "stream",
     "text": [
      "Name: arpit\n",
      "rollno 20\n"
     ]
    }
   ],
   "source": [
    "s1.display()"
   ]
  },
  {
   "cell_type": "code",
   "execution_count": 60,
   "id": "8979ddbf",
   "metadata": {},
   "outputs": [
    {
     "name": "stdout",
     "output_type": "stream",
     "text": [
      "Name: arpit\n"
     ]
    }
   ],
   "source": [
    "s1.printname()"
   ]
  },
  {
   "cell_type": "code",
   "execution_count": 67,
   "id": "8cfc8351",
   "metadata": {},
   "outputs": [],
   "source": [
    "class person:\n",
    "    def __init__(self,name):\n",
    "        self.name=name\n",
    "    def printname(self):\n",
    "        print(\"Name:\",self.name)\n",
    "class student(person):\n",
    "    def __init__(self,name,rollno):\n",
    "        self.rollno=rollno\n",
    "        self.name=name\n",
    "    def display(self):\n",
    "        person.__init__(self,self.name)\n",
    "        person.printname(self)\n",
    "        print('rollno',self.rollno)\n",
    "        "
   ]
  },
  {
   "cell_type": "code",
   "execution_count": 68,
   "id": "3bf65492",
   "metadata": {},
   "outputs": [],
   "source": [
    "obj=student('arpit',20)"
   ]
  },
  {
   "cell_type": "code",
   "execution_count": 69,
   "id": "1e468a85",
   "metadata": {},
   "outputs": [
    {
     "name": "stdout",
     "output_type": "stream",
     "text": [
      "Name: arpit\n",
      "rollno 20\n"
     ]
    }
   ],
   "source": [
    "obj.display()"
   ]
  },
  {
   "cell_type": "code",
   "execution_count": null,
   "id": "dbd60d1e",
   "metadata": {},
   "outputs": [],
   "source": []
  }
 ],
 "metadata": {
  "kernelspec": {
   "display_name": "Python 3 (ipykernel)",
   "language": "python",
   "name": "python3"
  },
  "language_info": {
   "codemirror_mode": {
    "name": "ipython",
    "version": 3
   },
   "file_extension": ".py",
   "mimetype": "text/x-python",
   "name": "python",
   "nbconvert_exporter": "python",
   "pygments_lexer": "ipython3",
   "version": "3.10.8"
  }
 },
 "nbformat": 4,
 "nbformat_minor": 5
}
